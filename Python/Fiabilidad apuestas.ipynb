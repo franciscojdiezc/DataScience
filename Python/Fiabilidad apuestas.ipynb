{
 "cells": [
  {
   "cell_type": "code",
   "execution_count": 22,
   "metadata": {},
   "outputs": [
    {
     "name": "stdout",
     "output_type": "stream",
     "text": [
      "2\n",
      "3\n",
      "2\n"
     ]
    },
    {
     "data": {
      "text/plain": [
       "0.6000000000000001"
      ]
     },
     "execution_count": 22,
     "metadata": {},
     "output_type": "execute_result"
    }
   ],
   "source": [
    "cuota = float(input())\n",
    "\n",
    "probabilidad = 1/cuota\n",
    "\n",
    "probabilidad\n",
    "\n",
    "ult_5_partidos = int(input())\n",
    "\n",
    "fiabilidad_5_ult_partidos = ult_5_partidos * 0.02\n",
    "\n",
    "ult_enf_directos = int(input())\n",
    "\n",
    "fiabilidad_ult_enf_directos = ult_enf_directos * 0.02\n",
    "\n",
    "fiabilidad_final = probabilidad + fiabilidad_5_ult_partidos + fiabilidad_ult_enf_directos\n",
    "\n",
    "fiabilidad_final\n"
   ]
  },
  {
   "cell_type": "code",
   "execution_count": 17,
   "metadata": {},
   "outputs": [],
   "source": []
  },
  {
   "cell_type": "code",
   "execution_count": null,
   "metadata": {
    "collapsed": true
   },
   "outputs": [],
   "source": []
  }
 ],
 "metadata": {
  "kernelspec": {
   "display_name": "Python 3",
   "language": "python",
   "name": "python3"
  },
  "language_info": {
   "codemirror_mode": {
    "name": "ipython",
    "version": 3
   },
   "file_extension": ".py",
   "mimetype": "text/x-python",
   "name": "python",
   "nbconvert_exporter": "python",
   "pygments_lexer": "ipython3",
   "version": "3.6.3"
  }
 },
 "nbformat": 4,
 "nbformat_minor": 2
}
