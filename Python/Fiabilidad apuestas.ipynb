{
 "cells": [
  {
   "cell_type": "code",
   "execution_count": 197,
   "metadata": {
    "collapsed": true
   },
   "outputs": [],
   "source": [
    "import pandas as pd"
   ]
  },
  {
   "cell_type": "code",
   "execution_count": 198,
   "metadata": {
    "collapsed": true
   },
   "outputs": [],
   "source": [
    "columns = ['Mercado', 'Línea', 'Cuota', 'Últimos 5 partidos','5 últimos Enfrentamientos directos','Fiabilidad','Resultado']\n",
    "datos = pd.DataFrame(columns=columns)"
   ]
  },
  {
   "cell_type": "code",
   "execution_count": 200,
   "metadata": {},
   "outputs": [
    {
     "name": "stdout",
     "output_type": "stream",
     "text": [
      "¿Mercado?\n",
      "Doble Oportunidad\n",
      "¿Línea?\n",
      "1X\n",
      "Dime la cuota\n",
      "1.14\n",
      "De los últimos 5 partidos, ¿En cuántos fue verde?\n",
      "4\n",
      "De los últimos 5 partidos entre los dos equipos, ¿En cuántos fue verde?\n",
      "2\n",
      "Su apuesta tiene una fiabilidad del 99.71929824561404 sobre 100\n"
     ]
    }
   ],
   "source": [
    "print('¿Mercado?')\n",
    "\n",
    "mercado = (input())\n",
    "\n",
    "print('¿Línea?')\n",
    "\n",
    "linea = (input())\n",
    "\n",
    "print('Dime la cuota')\n",
    "\n",
    "cuota = float(input())\n",
    "\n",
    "probabilidad = 1/cuota\n",
    "\n",
    "probabilidad\n",
    "\n",
    "print('De los últimos 5 partidos, ¿En cuántos fue verde?')\n",
    "\n",
    "ult_5_partidos = int(input())\n",
    "\n",
    "fiabilidad_5_ult_partidos = ult_5_partidos * 0.02\n",
    "\n",
    "print('De los últimos 5 partidos entre los dos equipos, ¿En cuántos fue verde?')\n",
    "\n",
    "ult_enf_directos = int(input())\n",
    "\n",
    "fiabilidad_ult_enf_directos = ult_enf_directos * 0.02\n",
    "\n",
    "fiabilidad_final = probabilidad + fiabilidad_5_ult_partidos + fiabilidad_ult_enf_directos\n",
    "\n",
    "fiabilidad_final_porcentaje = fiabilidad_final * 100\n",
    "\n",
    "Resultado = ''\n",
    "\n",
    "print('Su apuesta tiene una fiabilidad del %s sobre 100' % fiabilidad_final_porcentaje)"
   ]
  },
  {
   "cell_type": "code",
   "execution_count": 201,
   "metadata": {},
   "outputs": [],
   "source": [
    "data = [mercado,linea,cuota,ult_5_partidos,ult_enf_directos,fiabilidad_final,Resultado]\n",
    "index = ['Mercado', 'Línea', 'Cuota', 'Últimos 5 partidos','5 últimos Enfrentamientos directos','Fiabilidad','Resultado']\n",
    "df2 = pd.DataFrame(data = data, index = index)"
   ]
  },
  {
   "cell_type": "code",
   "execution_count": 202,
   "metadata": {},
   "outputs": [
    {
     "data": {
      "text/html": [
       "<div>\n",
       "<style>\n",
       "    .dataframe thead tr:only-child th {\n",
       "        text-align: right;\n",
       "    }\n",
       "\n",
       "    .dataframe thead th {\n",
       "        text-align: left;\n",
       "    }\n",
       "\n",
       "    .dataframe tbody tr th {\n",
       "        vertical-align: top;\n",
       "    }\n",
       "</style>\n",
       "<table border=\"1\" class=\"dataframe\">\n",
       "  <thead>\n",
       "    <tr style=\"text-align: right;\">\n",
       "      <th></th>\n",
       "      <th>0</th>\n",
       "    </tr>\n",
       "  </thead>\n",
       "  <tbody>\n",
       "    <tr>\n",
       "      <th>Mercado</th>\n",
       "      <td>Doble Oportunidad</td>\n",
       "    </tr>\n",
       "    <tr>\n",
       "      <th>Línea</th>\n",
       "      <td>1X</td>\n",
       "    </tr>\n",
       "    <tr>\n",
       "      <th>Cuota</th>\n",
       "      <td>1.14</td>\n",
       "    </tr>\n",
       "    <tr>\n",
       "      <th>Últimos 5 partidos</th>\n",
       "      <td>4</td>\n",
       "    </tr>\n",
       "    <tr>\n",
       "      <th>5 últimos Enfrentamientos directos</th>\n",
       "      <td>2</td>\n",
       "    </tr>\n",
       "    <tr>\n",
       "      <th>Fiabilidad</th>\n",
       "      <td>0.997193</td>\n",
       "    </tr>\n",
       "    <tr>\n",
       "      <th>Resultado</th>\n",
       "      <td></td>\n",
       "    </tr>\n",
       "  </tbody>\n",
       "</table>\n",
       "</div>"
      ],
      "text/plain": [
       "                                                    0\n",
       "Mercado                             Doble Oportunidad\n",
       "Línea                                              1X\n",
       "Cuota                                            1.14\n",
       "Últimos 5 partidos                                  4\n",
       "5 últimos Enfrentamientos directos                  2\n",
       "Fiabilidad                                   0.997193\n",
       "Resultado                                            "
      ]
     },
     "execution_count": 202,
     "metadata": {},
     "output_type": "execute_result"
    }
   ],
   "source": [
    "df2"
   ]
  },
  {
   "cell_type": "code",
   "execution_count": 203,
   "metadata": {},
   "outputs": [],
   "source": [
    "df3 = df2.T"
   ]
  },
  {
   "cell_type": "code",
   "execution_count": 204,
   "metadata": {},
   "outputs": [
    {
     "data": {
      "text/html": [
       "<div>\n",
       "<style>\n",
       "    .dataframe thead tr:only-child th {\n",
       "        text-align: right;\n",
       "    }\n",
       "\n",
       "    .dataframe thead th {\n",
       "        text-align: left;\n",
       "    }\n",
       "\n",
       "    .dataframe tbody tr th {\n",
       "        vertical-align: top;\n",
       "    }\n",
       "</style>\n",
       "<table border=\"1\" class=\"dataframe\">\n",
       "  <thead>\n",
       "    <tr style=\"text-align: right;\">\n",
       "      <th></th>\n",
       "      <th>Mercado</th>\n",
       "      <th>Línea</th>\n",
       "      <th>Cuota</th>\n",
       "      <th>Últimos 5 partidos</th>\n",
       "      <th>5 últimos Enfrentamientos directos</th>\n",
       "      <th>Fiabilidad</th>\n",
       "      <th>Resultado</th>\n",
       "    </tr>\n",
       "  </thead>\n",
       "  <tbody>\n",
       "    <tr>\n",
       "      <th>0</th>\n",
       "      <td>Doble Oportunidad</td>\n",
       "      <td>1X</td>\n",
       "      <td>1.14</td>\n",
       "      <td>4</td>\n",
       "      <td>2</td>\n",
       "      <td>0.997193</td>\n",
       "      <td></td>\n",
       "    </tr>\n",
       "  </tbody>\n",
       "</table>\n",
       "</div>"
      ],
      "text/plain": [
       "             Mercado Línea Cuota Últimos 5 partidos  \\\n",
       "0  Doble Oportunidad    1X  1.14                  4   \n",
       "\n",
       "  5 últimos Enfrentamientos directos Fiabilidad Resultado  \n",
       "0                                  2   0.997193            "
      ]
     },
     "execution_count": 204,
     "metadata": {},
     "output_type": "execute_result"
    }
   ],
   "source": [
    "df3"
   ]
  },
  {
   "cell_type": "code",
   "execution_count": 205,
   "metadata": {
    "scrolled": true
   },
   "outputs": [],
   "source": [
    "datos_finales = datos.append(df3)"
   ]
  },
  {
   "cell_type": "code",
   "execution_count": 206,
   "metadata": {
    "collapsed": true
   },
   "outputs": [],
   "source": [
    "historico = pd.read_excel('Datos.xls')"
   ]
  },
  {
   "cell_type": "code",
   "execution_count": 207,
   "metadata": {},
   "outputs": [
    {
     "data": {
      "text/html": [
       "<div>\n",
       "<style>\n",
       "    .dataframe thead tr:only-child th {\n",
       "        text-align: right;\n",
       "    }\n",
       "\n",
       "    .dataframe thead th {\n",
       "        text-align: left;\n",
       "    }\n",
       "\n",
       "    .dataframe tbody tr th {\n",
       "        vertical-align: top;\n",
       "    }\n",
       "</style>\n",
       "<table border=\"1\" class=\"dataframe\">\n",
       "  <thead>\n",
       "    <tr style=\"text-align: right;\">\n",
       "      <th></th>\n",
       "      <th>5 últimos Enfrentamientos directos</th>\n",
       "      <th>Cuota</th>\n",
       "      <th>Fiabilidad</th>\n",
       "      <th>Línea</th>\n",
       "      <th>Mercado</th>\n",
       "      <th>Resultado</th>\n",
       "      <th>Últimos 5 partidos</th>\n",
       "    </tr>\n",
       "  </thead>\n",
       "  <tbody>\n",
       "    <tr>\n",
       "      <th>0</th>\n",
       "      <td>3</td>\n",
       "      <td>3</td>\n",
       "      <td>0.453333</td>\n",
       "      <td>7</td>\n",
       "      <td>Goles</td>\n",
       "      <td>NaN</td>\n",
       "      <td>3</td>\n",
       "    </tr>\n",
       "  </tbody>\n",
       "</table>\n",
       "</div>"
      ],
      "text/plain": [
       "   5 últimos Enfrentamientos directos  Cuota  Fiabilidad  Línea Mercado  \\\n",
       "0                                   3      3    0.453333      7   Goles   \n",
       "\n",
       "   Resultado  Últimos 5 partidos  \n",
       "0        NaN                   3  "
      ]
     },
     "execution_count": 207,
     "metadata": {},
     "output_type": "execute_result"
    }
   ],
   "source": [
    "historico"
   ]
  },
  {
   "cell_type": "code",
   "execution_count": 208,
   "metadata": {},
   "outputs": [],
   "source": [
    "guardar = historico.append(datos_finales)"
   ]
  },
  {
   "cell_type": "code",
   "execution_count": 209,
   "metadata": {},
   "outputs": [],
   "source": [
    "guardar.to_excel('Datos.xls', index=False)"
   ]
  },
  {
   "cell_type": "code",
   "execution_count": 210,
   "metadata": {},
   "outputs": [
    {
     "data": {
      "text/html": [
       "<div>\n",
       "<style>\n",
       "    .dataframe thead tr:only-child th {\n",
       "        text-align: right;\n",
       "    }\n",
       "\n",
       "    .dataframe thead th {\n",
       "        text-align: left;\n",
       "    }\n",
       "\n",
       "    .dataframe tbody tr th {\n",
       "        vertical-align: top;\n",
       "    }\n",
       "</style>\n",
       "<table border=\"1\" class=\"dataframe\">\n",
       "  <thead>\n",
       "    <tr style=\"text-align: right;\">\n",
       "      <th></th>\n",
       "      <th>5 últimos Enfrentamientos directos</th>\n",
       "      <th>Cuota</th>\n",
       "      <th>Fiabilidad</th>\n",
       "      <th>Línea</th>\n",
       "      <th>Mercado</th>\n",
       "      <th>Resultado</th>\n",
       "      <th>Últimos 5 partidos</th>\n",
       "    </tr>\n",
       "  </thead>\n",
       "  <tbody>\n",
       "    <tr>\n",
       "      <th>0</th>\n",
       "      <td>3</td>\n",
       "      <td>3</td>\n",
       "      <td>0.453333</td>\n",
       "      <td>7</td>\n",
       "      <td>Goles</td>\n",
       "      <td>NaN</td>\n",
       "      <td>3</td>\n",
       "    </tr>\n",
       "    <tr>\n",
       "      <th>0</th>\n",
       "      <td>2</td>\n",
       "      <td>1.14</td>\n",
       "      <td>0.997193</td>\n",
       "      <td>1X</td>\n",
       "      <td>Doble Oportunidad</td>\n",
       "      <td></td>\n",
       "      <td>4</td>\n",
       "    </tr>\n",
       "  </tbody>\n",
       "</table>\n",
       "</div>"
      ],
      "text/plain": [
       "  5 últimos Enfrentamientos directos Cuota Fiabilidad Línea  \\\n",
       "0                                  3     3   0.453333     7   \n",
       "0                                  2  1.14   0.997193    1X   \n",
       "\n",
       "             Mercado Resultado Últimos 5 partidos  \n",
       "0              Goles       NaN                  3  \n",
       "0  Doble Oportunidad                            4  "
      ]
     },
     "execution_count": 210,
     "metadata": {},
     "output_type": "execute_result"
    }
   ],
   "source": [
    "guardar"
   ]
  },
  {
   "cell_type": "code",
   "execution_count": 215,
   "metadata": {},
   "outputs": [
    {
     "data": {
      "text/plain": [
       "0.72526315789473683"
      ]
     },
     "execution_count": 215,
     "metadata": {},
     "output_type": "execute_result"
    }
   ],
   "source": [
    "guardar['Fiabilidad'].mean()"
   ]
  },
  {
   "cell_type": "code",
   "execution_count": null,
   "metadata": {
    "collapsed": true
   },
   "outputs": [],
   "source": []
  }
 ],
 "metadata": {
  "kernelspec": {
   "display_name": "Python 3",
   "language": "python",
   "name": "python3"
  },
  "language_info": {
   "codemirror_mode": {
    "name": "ipython",
    "version": 3
   },
   "file_extension": ".py",
   "mimetype": "text/x-python",
   "name": "python",
   "nbconvert_exporter": "python",
   "pygments_lexer": "ipython3",
   "version": "3.6.3"
  }
 },
 "nbformat": 4,
 "nbformat_minor": 2
}
