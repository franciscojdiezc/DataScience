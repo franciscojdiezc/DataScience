{
 "cells": [
  {
   "cell_type": "code",
   "execution_count": 5,
   "metadata": {
    "collapsed": true
   },
   "outputs": [],
   "source": [
    "import pandas as pd"
   ]
  },
  {
   "cell_type": "code",
   "execution_count": 73,
   "metadata": {
    "collapsed": true
   },
   "outputs": [],
   "source": [
    "datos = pd.DataFrame(columns=['Mercado', 'Línea', 'Cuota', 'Últimos 5 partidos','5 últimos Enfrentamientos directos'])"
   ]
  },
  {
   "cell_type": "code",
   "execution_count": 4,
   "metadata": {},
   "outputs": [
    {
     "name": "stdout",
     "output_type": "stream",
     "text": [
      "¿Mercado?\n",
      "Goles\n",
      "¿Línea?\n",
      "+2.5\n",
      "Dime la cuota\n",
      "3.4\n",
      "De los últimos 5 partidos, ¿En cuántos fue verde?\n",
      "4\n",
      "De los últimos 5 partidos entre los dos equipos, ¿En cuántos fue verde?\n",
      "3\n",
      "Su apuesta tiene una fiabilidad del 43.411764705882355 sobre 100\n"
     ]
    }
   ],
   "source": [
    "print('¿Mercado?')\n",
    "\n",
    "mercado = (input())\n",
    "\n",
    "print('¿Línea?')\n",
    "\n",
    "linea = (input())\n",
    "\n",
    "print('Dime la cuota')\n",
    "\n",
    "cuota = float(input())\n",
    "\n",
    "probabilidad = 1/cuota\n",
    "\n",
    "probabilidad\n",
    "\n",
    "print('De los últimos 5 partidos, ¿En cuántos fue verde?')\n",
    "\n",
    "ult_5_partidos = int(input())\n",
    "\n",
    "fiabilidad_5_ult_partidos = ult_5_partidos * 0.02\n",
    "\n",
    "print('De los últimos 5 partidos entre los dos equipos, ¿En cuántos fue verde?')\n",
    "\n",
    "ult_enf_directos = int(input())\n",
    "\n",
    "fiabilidad_ult_enf_directos = ult_enf_directos * 0.02\n",
    "\n",
    "fiabilidad_final = probabilidad + fiabilidad_5_ult_partidos + fiabilidad_ult_enf_directos\n",
    "\n",
    "fiabilidad_final_porcentaje = fiabilidad_final * 100\n",
    "\n",
    "print('Su apuesta tiene una fiabilidad del %s sobre 100' % fiabilidad_final_porcentaje)"
   ]
  },
  {
   "cell_type": "code",
   "execution_count": 106,
   "metadata": {},
   "outputs": [],
   "source": [
    "df2 = pd.DataFrame(data = [mercado,linea,cuota,ult_5_partidos,ult_enf_directos])"
   ]
  },
  {
   "cell_type": "code",
   "execution_count": 101,
   "metadata": {},
   "outputs": [
    {
     "data": {
      "text/html": [
       "<div>\n",
       "<style>\n",
       "    .dataframe thead tr:only-child th {\n",
       "        text-align: right;\n",
       "    }\n",
       "\n",
       "    .dataframe thead th {\n",
       "        text-align: left;\n",
       "    }\n",
       "\n",
       "    .dataframe tbody tr th {\n",
       "        vertical-align: top;\n",
       "    }\n",
       "</style>\n",
       "<table border=\"1\" class=\"dataframe\">\n",
       "  <thead>\n",
       "    <tr style=\"text-align: right;\">\n",
       "      <th></th>\n",
       "      <th>0</th>\n",
       "      <th>1</th>\n",
       "      <th>2</th>\n",
       "      <th>3</th>\n",
       "      <th>4</th>\n",
       "    </tr>\n",
       "  </thead>\n",
       "  <tbody>\n",
       "    <tr>\n",
       "      <th>0</th>\n",
       "      <td>Goles</td>\n",
       "      <td>+2.5</td>\n",
       "      <td>3.4</td>\n",
       "      <td>4</td>\n",
       "      <td>3</td>\n",
       "    </tr>\n",
       "  </tbody>\n",
       "</table>\n",
       "</div>"
      ],
      "text/plain": [
       "       0     1    2  3  4\n",
       "0  Goles  +2.5  3.4  4  3"
      ]
     },
     "execution_count": 101,
     "metadata": {},
     "output_type": "execute_result"
    }
   ],
   "source": [
    "df2"
   ]
  },
  {
   "cell_type": "code",
   "execution_count": 98,
   "metadata": {
    "scrolled": true
   },
   "outputs": [
    {
     "name": "stderr",
     "output_type": "stream",
     "text": [
      "C:\\Users\\corrales\\AppData\\Local\\Continuum\\anaconda3\\lib\\site-packages\\pandas\\core\\indexes\\api.py:77: RuntimeWarning: '<' not supported between instances of 'str' and 'int', sort order is undefined for incomparable objects\n",
      "  result = result.union(other)\n"
     ]
    },
    {
     "data": {
      "text/html": [
       "<div>\n",
       "<style>\n",
       "    .dataframe thead tr:only-child th {\n",
       "        text-align: right;\n",
       "    }\n",
       "\n",
       "    .dataframe thead th {\n",
       "        text-align: left;\n",
       "    }\n",
       "\n",
       "    .dataframe tbody tr th {\n",
       "        vertical-align: top;\n",
       "    }\n",
       "</style>\n",
       "<table border=\"1\" class=\"dataframe\">\n",
       "  <thead>\n",
       "    <tr style=\"text-align: right;\">\n",
       "      <th></th>\n",
       "      <th>Mercado</th>\n",
       "      <th>Línea</th>\n",
       "      <th>Cuota</th>\n",
       "      <th>Últimos 5 partidos</th>\n",
       "      <th>5 últimos Enfrentamientos directos</th>\n",
       "      <th>0</th>\n",
       "      <th>1</th>\n",
       "      <th>2</th>\n",
       "      <th>3</th>\n",
       "      <th>4</th>\n",
       "    </tr>\n",
       "  </thead>\n",
       "  <tbody>\n",
       "    <tr>\n",
       "      <th>0</th>\n",
       "      <td>NaN</td>\n",
       "      <td>NaN</td>\n",
       "      <td>NaN</td>\n",
       "      <td>NaN</td>\n",
       "      <td>NaN</td>\n",
       "      <td>Goles</td>\n",
       "      <td>+2.5</td>\n",
       "      <td>3.4</td>\n",
       "      <td>4</td>\n",
       "      <td>3</td>\n",
       "    </tr>\n",
       "  </tbody>\n",
       "</table>\n",
       "</div>"
      ],
      "text/plain": [
       "  Mercado Línea Cuota Últimos 5 partidos 5 últimos Enfrentamientos directos  \\\n",
       "0     NaN   NaN   NaN                NaN                                NaN   \n",
       "\n",
       "       0     1    2  3  4  \n",
       "0  Goles  +2.5  3.4  4  3  "
      ]
     },
     "execution_count": 98,
     "metadata": {},
     "output_type": "execute_result"
    }
   ],
   "source": [
    "datos.append(df2)"
   ]
  }
 ],
 "metadata": {
  "kernelspec": {
   "display_name": "Python 3",
   "language": "python",
   "name": "python3"
  },
  "language_info": {
   "codemirror_mode": {
    "name": "ipython",
    "version": 3
   },
   "file_extension": ".py",
   "mimetype": "text/x-python",
   "name": "python",
   "nbconvert_exporter": "python",
   "pygments_lexer": "ipython3",
   "version": "3.6.3"
  }
 },
 "nbformat": 4,
 "nbformat_minor": 2
}
