{
 "cells": [
  {
   "cell_type": "markdown",
   "metadata": {},
   "source": [
    "Para poder trabajar con DataFrames necesitamos importar numpy y pandas.\n",
    "\n",
    "El objetivo de este notebook es combinar dos tablas y luego dividir la tabla final en archivos de 30000 lineas como máximo."
   ]
  },
  {
   "cell_type": "code",
   "execution_count": 1,
   "metadata": {},
   "outputs": [],
   "source": [
    "import numpy as np\n",
    "import pandas as pd"
   ]
  },
  {
   "cell_type": "markdown",
   "metadata": {},
   "source": [
    "Leemos el primer csv con solamente con las columnas que necesitamos y utilizando dtype='str' para que todas las columnas\n",
    "tengan formato string.\n",
    "\n",
    "En una versión anterior creaba una columna y a través de lambda cambiaba el formato."
   ]
  },
  {
   "cell_type": "code",
   "execution_count": 2,
   "metadata": {},
   "outputs": [],
   "source": [
    "cruzar = pd.read_csv('file2.csv', usecols=['COLUMN','ID'], dtype='str')"
   ]
  },
  {
   "cell_type": "markdown",
   "metadata": {},
   "source": [
    "cruzar['COLUMN_2'] = cruzar['COLUMN'].map(lambda x: str(x))"
   ]
  },
  {
   "cell_type": "markdown",
   "metadata": {},
   "source": [
    "Uno de los archivos que voy a combinar no tiene header, entonces necesito cogerlo de un archivo similiar.\n",
    "Y posteriormente lo paso a una lista."
   ]
  },
  {
   "cell_type": "code",
   "execution_count": 4,
   "metadata": {},
   "outputs": [
    {
     "name": "stderr",
     "output_type": "stream",
     "text": [
      "C:\\Users\\corrales\\AppData\\Local\\Continuum\\anacond3\\lib\\site-packages\\IPython\\core\\interactiveshell.py:2728: DtypeWarning: Columns (24) have mixed types. Specify dtype option on import or set low_memory=False.\n",
      "  interactivity=interactivity, compiler=compiler, result=result)\n"
     ]
    }
   ],
   "source": [
    "headertabla = pd.read_csv('header2.csv',delimiter =';',encoding='latin-1')"
   ]
  },
  {
   "cell_type": "code",
   "execution_count": 5,
   "metadata": {},
   "outputs": [],
   "source": [
    "header = headertabla.columns.tolist()"
   ]
  },
  {
   "cell_type": "markdown",
   "metadata": {},
   "source": [
    "Leemos el archivo que está en formato TXT, al principio no se podía leer pero con encoding='latin-1' se puede.\n",
    "Y le damos nombre a las columnas anteriormente extraidas."
   ]
  },
  {
   "cell_type": "code",
   "execution_count": 6,
   "metadata": {},
   "outputs": [],
   "source": [
    "Empresa = pd.read_csv('file.txt', delimiter=';', encoding='latin-1', dtype='str')"
   ]
  },
  {
   "cell_type": "code",
   "execution_count": 7,
   "metadata": {},
   "outputs": [],
   "source": [
    "Empresa.columns = header"
   ]
  },
  {
   "cell_type": "markdown",
   "metadata": {},
   "source": [
    "Hacemos un proceso parecido debido a que en otro archivo tenemos tenemos solamente las columnas que queremos del anterior\n",
    "archivo, entonces creamos una nueva variable solamente con las columnas que necesitamos."
   ]
  },
  {
   "cell_type": "code",
   "execution_count": 8,
   "metadata": {},
   "outputs": [],
   "source": [
    "header2 = pd.read_csv('header.csv', delimiter=';', encoding='latin-1')"
   ]
  },
  {
   "cell_type": "code",
   "execution_count": 9,
   "metadata": {},
   "outputs": [],
   "source": [
    "headerfinal = header2.columns.tolist()"
   ]
  },
  {
   "cell_type": "code",
   "execution_count": 10,
   "metadata": {},
   "outputs": [],
   "source": [
    "Empresafinal = Empresa[headerfinal]"
   ]
  },
  {
   "cell_type": "markdown",
   "metadata": {},
   "source": [
    "Quitamos los NaN de la columna key porque no los necesitamos."
   ]
  },
  {
   "cell_type": "code",
   "execution_count": 11,
   "metadata": {
    "scrolled": true
   },
   "outputs": [],
   "source": [
    "Empresasconmatr = Empresafinal.dropna(subset=['key'])"
   ]
  },
  {
   "cell_type": "markdown",
   "metadata": {},
   "source": [
    "Combinamos las dos tablas a través de las columnas que tienen valores idénticos."
   ]
  },
  {
   "cell_type": "code",
   "execution_count": 12,
   "metadata": {},
   "outputs": [],
   "source": [
    "VehiculosconID = Empresasconmatr.merge(cruzar, how ='left', left_on = ['id_2'], right_on = ['ID'])"
   ]
  },
  {
   "cell_type": "markdown",
   "metadata": {},
   "source": [
    "Quitamos NaN de 'COLUMN' y duplicados de 'key'"
   ]
  },
  {
   "cell_type": "code",
   "execution_count": 13,
   "metadata": {},
   "outputs": [],
   "source": [
    "VehiculosconIDfinal = VehiculosconID.dropna(subset=['COLUMN']).drop_duplicates(subset=['key'])"
   ]
  },
  {
   "cell_type": "markdown",
   "metadata": {},
   "source": [
    "Creamos una nueva columna con un nombre."
   ]
  },
  {
   "cell_type": "code",
   "execution_count": 14,
   "metadata": {},
   "outputs": [],
   "source": [
    "nombre_columna = 'Name'"
   ]
  },
  {
   "cell_type": "code",
   "execution_count": 15,
   "metadata": {},
   "outputs": [],
   "source": [
    "VehiculosconIDfinal['New_column'] = nombre_columna"
   ]
  },
  {
   "cell_type": "markdown",
   "metadata": {},
   "source": [
    "Creamos un archivo que lo llamaremos temporal porque posteriormente lo iremos sobrescribiendo."
   ]
  },
  {
   "cell_type": "code",
   "execution_count": 18,
   "metadata": {},
   "outputs": [],
   "source": [
    "temporal = VehiculosconIDfinal.to_csv('temporal.csv', encoding='latin-1', float_format='string')"
   ]
  },
  {
   "cell_type": "code",
   "execution_count": 19,
   "metadata": {},
   "outputs": [],
   "source": [
    "reader = pd.read_csv('temporal.csv', delimiter=',', encoding='latin-1', chunksize=29998, dtype='str')"
   ]
  },
  {
   "cell_type": "markdown",
   "metadata": {},
   "source": [
    "Leemos el archivo temporal con chunks de 29998 para posteriormente hacer un loop.\n",
    "\n",
    "Creamos tantos archivos como chunks de 29998 tengamos con el nombre de la columna que hemos dado antes\n",
    "y con un contado porque sino se irán pisando los archivos."
   ]
  },
  {
   "cell_type": "code",
   "execution_count": 20,
   "metadata": {
    "scrolled": true
   },
   "outputs": [],
   "source": [
    "count = 0\n",
    "for chunk in reader:\n",
    "    count += 1\n",
    "    count2 = str(count)\n",
    "    name_file ='%s%s.csv' %(nombre_columna,count2)\n",
    "    chunk.to_csv(name_file, encoding='latin-1', float_format='string')"
   ]
  }
 ],
 "metadata": {
  "kernelspec": {
   "display_name": "Python 3",
   "language": "python",
   "name": "python3"
  },
  "language_info": {
   "codemirror_mode": {
    "name": "ipython",
    "version": 3
   },
   "file_extension": ".py",
   "mimetype": "text/x-python",
   "name": "python",
   "nbconvert_exporter": "python",
   "pygments_lexer": "ipython3",
   "version": "3.6.4"
  }
 },
 "nbformat": 4,
 "nbformat_minor": 2
}
